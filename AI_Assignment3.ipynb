{
  "nbformat": 4,
  "nbformat_minor": 0,
  "metadata": {
    "colab": {
      "provenance": []
    },
    "kernelspec": {
      "name": "python3",
      "display_name": "Python 3"
    },
    "language_info": {
      "name": "python"
    }
  },
  "cells": [
    {
      "cell_type": "code",
      "execution_count": 33,
      "metadata": {
        "id": "B2E_nQEFTpVJ"
      },
      "outputs": [],
      "source": [
        "import pandas as pd\n",
        "import numpy as np\n",
        "from sklearn.model_selection import train_test_split\n",
        "from sklearn.ensemble import RandomForestClassifier\n",
        "from sklearn.feature_selection import SelectFromModel\n",
        "from sklearn.preprocessing import StandardScaler, OneHotEncoder\n",
        "from sklearn.compose import ColumnTransformer\n",
        "from sklearn.pipeline import Pipeline\n",
        "from sklearn.preprocessing import LabelEncoder\n",
        "from sklearn.preprocessing import StandardScaler, LabelEncoder\n",
        "from sklearn.metrics import accuracy_score\n",
        "from tensorflow.keras.models import Model\n",
        "from tensorflow.keras.layers import Input, Dense, Dropout, concatenate\n",
        "from tensorflow.keras.optimizers import Adam\n",
        "from sklearn.model_selection import GridSearchCV, train_test_split\n",
        "from keras.models import Sequential\n",
        "from keras.layers import Dense\n",
        "from sklearn.model_selection import GridSearchCV\n",
        "from sklearn.metrics import accuracy_score, roc_auc_score"
      ]
    },
    {
      "cell_type": "code",
      "source": [
        "df = pd.read_csv('/content/drive/MyDrive/Classroom/CustomerChurn_dataset.csv')"
      ],
      "metadata": {
        "id": "t1wNw9ynUX_T"
      },
      "execution_count": 7,
      "outputs": []
    },
    {
      "cell_type": "code",
      "source": [
        "df = df.drop('customerID', axis=1)"
      ],
      "metadata": {
        "id": "UXlJvGiWKpwb"
      },
      "execution_count": 8,
      "outputs": []
    },
    {
      "cell_type": "code",
      "source": [
        "df.info()"
      ],
      "metadata": {
        "colab": {
          "base_uri": "https://localhost:8080/"
        },
        "id": "wn3LOTw2WJx0",
        "outputId": "a2d99a10-5d9a-47e9-9838-ece97968d687"
      },
      "execution_count": 9,
      "outputs": [
        {
          "output_type": "stream",
          "name": "stdout",
          "text": [
            "<class 'pandas.core.frame.DataFrame'>\n",
            "RangeIndex: 7043 entries, 0 to 7042\n",
            "Data columns (total 20 columns):\n",
            " #   Column            Non-Null Count  Dtype  \n",
            "---  ------            --------------  -----  \n",
            " 0   gender            7043 non-null   object \n",
            " 1   SeniorCitizen     7043 non-null   int64  \n",
            " 2   Partner           7043 non-null   object \n",
            " 3   Dependents        7043 non-null   object \n",
            " 4   tenure            7043 non-null   int64  \n",
            " 5   PhoneService      7043 non-null   object \n",
            " 6   MultipleLines     7043 non-null   object \n",
            " 7   InternetService   7043 non-null   object \n",
            " 8   OnlineSecurity    7043 non-null   object \n",
            " 9   OnlineBackup      7043 non-null   object \n",
            " 10  DeviceProtection  7043 non-null   object \n",
            " 11  TechSupport       7043 non-null   object \n",
            " 12  StreamingTV       7043 non-null   object \n",
            " 13  StreamingMovies   7043 non-null   object \n",
            " 14  Contract          7043 non-null   object \n",
            " 15  PaperlessBilling  7043 non-null   object \n",
            " 16  PaymentMethod     7043 non-null   object \n",
            " 17  MonthlyCharges    7043 non-null   float64\n",
            " 18  TotalCharges      7043 non-null   object \n",
            " 19  Churn             7043 non-null   object \n",
            "dtypes: float64(1), int64(2), object(17)\n",
            "memory usage: 1.1+ MB\n"
          ]
        }
      ]
    },
    {
      "cell_type": "code",
      "source": [
        "categorical_columns = df.select_dtypes(include=['object']).columns.tolist()"
      ],
      "metadata": {
        "id": "H4GDau9EYAuP"
      },
      "execution_count": 10,
      "outputs": []
    },
    {
      "cell_type": "code",
      "source": [
        "num_columns = df.select_dtypes(include=['float64','int64']).columns.tolist()"
      ],
      "metadata": {
        "id": "5zJWJ9o5IgHF"
      },
      "execution_count": 11,
      "outputs": []
    },
    {
      "cell_type": "code",
      "source": [
        "# Initialize LabelEncoder\n",
        "label_encoder = LabelEncoder()\n",
        "\n",
        "# Apply LabelEncoder to each categorical column\n",
        "for column in categorical_columns:\n",
        "    df[column] = label_encoder.fit_transform(df[column])\n"
      ],
      "metadata": {
        "id": "oYK2KyhuIpZP"
      },
      "execution_count": 12,
      "outputs": []
    },
    {
      "cell_type": "code",
      "source": [
        "df.info()"
      ],
      "metadata": {
        "colab": {
          "base_uri": "https://localhost:8080/"
        },
        "id": "3xQZzcIoJy3U",
        "outputId": "8ff1d68e-23a1-41c3-ba5f-721d50770306"
      },
      "execution_count": 13,
      "outputs": [
        {
          "output_type": "stream",
          "name": "stdout",
          "text": [
            "<class 'pandas.core.frame.DataFrame'>\n",
            "RangeIndex: 7043 entries, 0 to 7042\n",
            "Data columns (total 20 columns):\n",
            " #   Column            Non-Null Count  Dtype  \n",
            "---  ------            --------------  -----  \n",
            " 0   gender            7043 non-null   int64  \n",
            " 1   SeniorCitizen     7043 non-null   int64  \n",
            " 2   Partner           7043 non-null   int64  \n",
            " 3   Dependents        7043 non-null   int64  \n",
            " 4   tenure            7043 non-null   int64  \n",
            " 5   PhoneService      7043 non-null   int64  \n",
            " 6   MultipleLines     7043 non-null   int64  \n",
            " 7   InternetService   7043 non-null   int64  \n",
            " 8   OnlineSecurity    7043 non-null   int64  \n",
            " 9   OnlineBackup      7043 non-null   int64  \n",
            " 10  DeviceProtection  7043 non-null   int64  \n",
            " 11  TechSupport       7043 non-null   int64  \n",
            " 12  StreamingTV       7043 non-null   int64  \n",
            " 13  StreamingMovies   7043 non-null   int64  \n",
            " 14  Contract          7043 non-null   int64  \n",
            " 15  PaperlessBilling  7043 non-null   int64  \n",
            " 16  PaymentMethod     7043 non-null   int64  \n",
            " 17  MonthlyCharges    7043 non-null   float64\n",
            " 18  TotalCharges      7043 non-null   int64  \n",
            " 19  Churn             7043 non-null   int64  \n",
            "dtypes: float64(1), int64(19)\n",
            "memory usage: 1.1 MB\n"
          ]
        }
      ]
    },
    {
      "cell_type": "markdown",
      "source": [
        "Feature Extraction"
      ],
      "metadata": {
        "id": "d_9DIrgoIUIZ"
      }
    },
    {
      "cell_type": "code",
      "source": [
        "X =df.drop('Churn', axis=1)\n",
        "y = df['Churn']"
      ],
      "metadata": {
        "id": "2BysNGjhVSNb"
      },
      "execution_count": 14,
      "outputs": []
    },
    {
      "cell_type": "code",
      "source": [
        "X_train, X_test, y_train, y_test = train_test_split(X, y, test_size=0.2, random_state=42)"
      ],
      "metadata": {
        "id": "qLZ_-pdpWRUA"
      },
      "execution_count": 15,
      "outputs": []
    },
    {
      "cell_type": "code",
      "source": [
        "rf_classifier = RandomForestClassifier(n_estimators=100, random_state=42)\n"
      ],
      "metadata": {
        "id": "j8El08tCKGjX"
      },
      "execution_count": 16,
      "outputs": []
    },
    {
      "cell_type": "code",
      "source": [
        "rf_classifier.fit(X_train, y_train)"
      ],
      "metadata": {
        "colab": {
          "base_uri": "https://localhost:8080/",
          "height": 75
        },
        "id": "Nmc8dNrjKMAD",
        "outputId": "fe859297-6a72-4b01-e773-8591db03dfeb"
      },
      "execution_count": 17,
      "outputs": [
        {
          "output_type": "execute_result",
          "data": {
            "text/plain": [
              "RandomForestClassifier(random_state=42)"
            ],
            "text/html": [
              "<style>#sk-container-id-1 {color: black;background-color: white;}#sk-container-id-1 pre{padding: 0;}#sk-container-id-1 div.sk-toggleable {background-color: white;}#sk-container-id-1 label.sk-toggleable__label {cursor: pointer;display: block;width: 100%;margin-bottom: 0;padding: 0.3em;box-sizing: border-box;text-align: center;}#sk-container-id-1 label.sk-toggleable__label-arrow:before {content: \"▸\";float: left;margin-right: 0.25em;color: #696969;}#sk-container-id-1 label.sk-toggleable__label-arrow:hover:before {color: black;}#sk-container-id-1 div.sk-estimator:hover label.sk-toggleable__label-arrow:before {color: black;}#sk-container-id-1 div.sk-toggleable__content {max-height: 0;max-width: 0;overflow: hidden;text-align: left;background-color: #f0f8ff;}#sk-container-id-1 div.sk-toggleable__content pre {margin: 0.2em;color: black;border-radius: 0.25em;background-color: #f0f8ff;}#sk-container-id-1 input.sk-toggleable__control:checked~div.sk-toggleable__content {max-height: 200px;max-width: 100%;overflow: auto;}#sk-container-id-1 input.sk-toggleable__control:checked~label.sk-toggleable__label-arrow:before {content: \"▾\";}#sk-container-id-1 div.sk-estimator input.sk-toggleable__control:checked~label.sk-toggleable__label {background-color: #d4ebff;}#sk-container-id-1 div.sk-label input.sk-toggleable__control:checked~label.sk-toggleable__label {background-color: #d4ebff;}#sk-container-id-1 input.sk-hidden--visually {border: 0;clip: rect(1px 1px 1px 1px);clip: rect(1px, 1px, 1px, 1px);height: 1px;margin: -1px;overflow: hidden;padding: 0;position: absolute;width: 1px;}#sk-container-id-1 div.sk-estimator {font-family: monospace;background-color: #f0f8ff;border: 1px dotted black;border-radius: 0.25em;box-sizing: border-box;margin-bottom: 0.5em;}#sk-container-id-1 div.sk-estimator:hover {background-color: #d4ebff;}#sk-container-id-1 div.sk-parallel-item::after {content: \"\";width: 100%;border-bottom: 1px solid gray;flex-grow: 1;}#sk-container-id-1 div.sk-label:hover label.sk-toggleable__label {background-color: #d4ebff;}#sk-container-id-1 div.sk-serial::before {content: \"\";position: absolute;border-left: 1px solid gray;box-sizing: border-box;top: 0;bottom: 0;left: 50%;z-index: 0;}#sk-container-id-1 div.sk-serial {display: flex;flex-direction: column;align-items: center;background-color: white;padding-right: 0.2em;padding-left: 0.2em;position: relative;}#sk-container-id-1 div.sk-item {position: relative;z-index: 1;}#sk-container-id-1 div.sk-parallel {display: flex;align-items: stretch;justify-content: center;background-color: white;position: relative;}#sk-container-id-1 div.sk-item::before, #sk-container-id-1 div.sk-parallel-item::before {content: \"\";position: absolute;border-left: 1px solid gray;box-sizing: border-box;top: 0;bottom: 0;left: 50%;z-index: -1;}#sk-container-id-1 div.sk-parallel-item {display: flex;flex-direction: column;z-index: 1;position: relative;background-color: white;}#sk-container-id-1 div.sk-parallel-item:first-child::after {align-self: flex-end;width: 50%;}#sk-container-id-1 div.sk-parallel-item:last-child::after {align-self: flex-start;width: 50%;}#sk-container-id-1 div.sk-parallel-item:only-child::after {width: 0;}#sk-container-id-1 div.sk-dashed-wrapped {border: 1px dashed gray;margin: 0 0.4em 0.5em 0.4em;box-sizing: border-box;padding-bottom: 0.4em;background-color: white;}#sk-container-id-1 div.sk-label label {font-family: monospace;font-weight: bold;display: inline-block;line-height: 1.2em;}#sk-container-id-1 div.sk-label-container {text-align: center;}#sk-container-id-1 div.sk-container {/* jupyter's `normalize.less` sets `[hidden] { display: none; }` but bootstrap.min.css set `[hidden] { display: none !important; }` so we also need the `!important` here to be able to override the default hidden behavior on the sphinx rendered scikit-learn.org. See: https://github.com/scikit-learn/scikit-learn/issues/21755 */display: inline-block !important;position: relative;}#sk-container-id-1 div.sk-text-repr-fallback {display: none;}</style><div id=\"sk-container-id-1\" class=\"sk-top-container\"><div class=\"sk-text-repr-fallback\"><pre>RandomForestClassifier(random_state=42)</pre><b>In a Jupyter environment, please rerun this cell to show the HTML representation or trust the notebook. <br />On GitHub, the HTML representation is unable to render, please try loading this page with nbviewer.org.</b></div><div class=\"sk-container\" hidden><div class=\"sk-item\"><div class=\"sk-estimator sk-toggleable\"><input class=\"sk-toggleable__control sk-hidden--visually\" id=\"sk-estimator-id-1\" type=\"checkbox\" checked><label for=\"sk-estimator-id-1\" class=\"sk-toggleable__label sk-toggleable__label-arrow\">RandomForestClassifier</label><div class=\"sk-toggleable__content\"><pre>RandomForestClassifier(random_state=42)</pre></div></div></div></div></div>"
            ]
          },
          "metadata": {},
          "execution_count": 17
        }
      ]
    },
    {
      "cell_type": "code",
      "source": [
        "feature_importances = rf_classifier.feature_importances_"
      ],
      "metadata": {
        "id": "Ysyd7Sq-KOyg"
      },
      "execution_count": 18,
      "outputs": []
    },
    {
      "cell_type": "code",
      "source": [
        "feature_importance_df = pd.DataFrame({'Feature': X_train.columns, 'Importance': feature_importances})\n",
        "\n",
        "# Sort the DataFrame by importance in descending order\n",
        "feature_importance_df = feature_importance_df.sort_values(by='Importance', ascending=False)\n",
        "\n",
        "# Extract the top 5 important features\n",
        "top_5_features = feature_importance_df.head(5)"
      ],
      "metadata": {
        "id": "TOpxxZjBGS6V"
      },
      "execution_count": 19,
      "outputs": []
    },
    {
      "cell_type": "code",
      "source": [
        "print(top_5_features)"
      ],
      "metadata": {
        "colab": {
          "base_uri": "https://localhost:8080/"
        },
        "id": "FcisbGFNKV4Z",
        "outputId": "ede44a81-e231-4689-f7e3-872a91592265"
      },
      "execution_count": 20,
      "outputs": [
        {
          "output_type": "stream",
          "name": "stdout",
          "text": [
            "           Feature  Importance\n",
            "17  MonthlyCharges    0.176539\n",
            "4           tenure    0.174955\n",
            "18    TotalCharges    0.167721\n",
            "14        Contract    0.081976\n",
            "16   PaymentMethod    0.051153\n"
          ]
        }
      ]
    },
    {
      "cell_type": "markdown",
      "source": [
        "Exploratory Data **Analysis**"
      ],
      "metadata": {
        "id": "uwxjRwcSKayH"
      }
    },
    {
      "cell_type": "code",
      "source": [
        "import matplotlib.pyplot as plt\n",
        "import seaborn as sns\n",
        "\n",
        "# Assuming df is your DataFrame\n",
        "plt.figure(figsize=(10, 6))\n",
        "sns.barplot(x='Churn', y='MonthlyCharges', data=df, ci=None)\n",
        "plt.title('Average Monthly Charges for Churned and Non-Churned Customers')\n",
        "plt.xlabel('Churn')\n",
        "plt.ylabel('Average Monthly Charges')\n",
        "plt.show()\n"
      ],
      "metadata": {
        "colab": {
          "base_uri": "https://localhost:8080/",
          "height": 651
        },
        "id": "FCyo4fuaKY6k",
        "outputId": "2884732c-2870-4551-cbf6-131648a23efd"
      },
      "execution_count": 21,
      "outputs": [
        {
          "output_type": "stream",
          "name": "stderr",
          "text": [
            "<ipython-input-21-ab9db1af3873>:6: FutureWarning: \n",
            "\n",
            "The `ci` parameter is deprecated. Use `errorbar=None` for the same effect.\n",
            "\n",
            "  sns.barplot(x='Churn', y='MonthlyCharges', data=df, ci=None)\n"
          ]
        },
        {
          "output_type": "display_data",
          "data": {
            "text/plain": [
              "<Figure size 1000x600 with 1 Axes>"
            ],
            "image/png": "[encoded data removed]"
          },
          "metadata": {}
        }
      ]
    },
    {
      "cell_type": "code",
      "source": [
        "import matplotlib.pyplot as plt\n",
        "import seaborn as sns\n",
        "\n",
        "# Assuming df is your DataFrame\n",
        "plt.figure(figsize=(12, 6))\n",
        "sns.boxplot(x='Churn', y='tenure', data=df)\n",
        "plt.title('Distribution of Tenure for Churned and Non-Churned Customers')\n",
        "plt.xlabel('Churn')\n",
        "plt.ylabel('Tenure')\n",
        "plt.show()"
      ],
      "metadata": {
        "colab": {
          "base_uri": "https://localhost:8080/",
          "height": 564
        },
        "id": "GkSEGiFvLAta",
        "outputId": "442c9491-e486-40a5-aa4a-9a798e30bb96"
      },
      "execution_count": 22,
      "outputs": [
        {
          "output_type": "display_data",
          "data": {
            "text/plain": [
              "<Figure size 1200x600 with 1 Axes>"
            ],
            "image/png": "[encoded data removed]"
          },
          "metadata": {}
        }
      ]
    },
    {
      "cell_type": "code",
      "source": [
        "import matplotlib.pyplot as plt\n",
        "import seaborn as sns\n",
        "\n",
        "# Assuming df is your DataFrame\n",
        "plt.figure(figsize=(12, 6))\n",
        "sns.boxplot(x='Churn', y='TotalCharges', data=df)\n",
        "plt.title('Distribution of TotalCharges for Churned and Non-Churned Customers')\n",
        "plt.xlabel('Churn')\n",
        "plt.ylabel('TotalCharges')\n",
        "plt.show()\n"
      ],
      "metadata": {
        "colab": {
          "base_uri": "https://localhost:8080/",
          "height": 564
        },
        "id": "vp4jT5F8L2wE",
        "outputId": "a4b95285-a08e-4bd8-b158-c23882218de2"
      },
      "execution_count": 23,
      "outputs": [
        {
          "output_type": "display_data",
          "data": {
            "text/plain": [
              "<Figure size 1200x600 with 1 Axes>"
            ],
            "image/png": "[encoded data removed]"
          },
          "metadata": {}
        }
      ]
    },
    {
      "cell_type": "code",
      "source": [
        "import matplotlib.pyplot as plt\n",
        "import seaborn as sns\n",
        "\n",
        "# Assuming df is your DataFrame\n",
        "plt.figure(figsize=(10, 6))\n",
        "sns.countplot(x='Contract', hue='Churn', data=df)\n",
        "plt.title('Churn Count by Contract Type')\n",
        "plt.xlabel('Contract Type')\n",
        "plt.ylabel('Count')\n",
        "plt.show()"
      ],
      "metadata": {
        "colab": {
          "base_uri": "https://localhost:8080/",
          "height": 564
        },
        "id": "-AkKTo_ZMUZ3",
        "outputId": "458c3f8b-78fb-40d5-b007-747c7cd868c6"
      },
      "execution_count": 24,
      "outputs": [
        {
          "output_type": "display_data",
          "data": {
            "text/plain": [
              "<Figure size 1000x600 with 1 Axes>"
            ],
            "image/png": "[encoded data removed]"
          },
          "metadata": {}
        }
      ]
    },
    {
      "cell_type": "code",
      "source": [
        "import matplotlib.pyplot as plt\n",
        "import seaborn as sns\n",
        "\n",
        "# Assuming df is your DataFrame\n",
        "plt.figure(figsize=(12, 6))\n",
        "sns.countplot(x='PaymentMethod', hue='Churn', data=df)\n",
        "plt.title('Churn Count by Payment Method')\n",
        "plt.xlabel('Payment Method')\n",
        "plt.ylabel('Count')\n",
        "plt.xticks(rotation=45, ha='right')  # Rotate x-axis labels for better readability\n",
        "plt.show()"
      ],
      "metadata": {
        "colab": {
          "base_uri": "https://localhost:8080/",
          "height": 566
        },
        "id": "VEqsjM_6Mg7x",
        "outputId": "390b7cc8-8279-4b20-9300-c673993a2564"
      },
      "execution_count": 25,
      "outputs": [
        {
          "output_type": "display_data",
          "data": {
            "text/plain": [
              "<Figure size 1200x600 with 1 Axes>"
            ],
            "image/png": "[encoded data removed]"
          },
          "metadata": {}
        }
      ]
    },
    {
      "cell_type": "code",
      "source": [
        "# Assuming df is your DataFrame with the relevant features and target 'Churn'\n",
        "selected_features = ['MonthlyCharges', 'tenure', 'TotalCharges', 'Contract', 'PaymentMethod']\n",
        "X = df[selected_features]\n",
        "y = df['Churn']\n",
        "\n",
        "# Preprocess categorical features using LabelEncoder\n",
        "label_encoder = LabelEncoder()\n",
        "X['Contract'] = label_encoder.fit_transform(X['Contract'])\n",
        "X['PaymentMethod'] = label_encoder.fit_transform(X['PaymentMethod'])\n",
        "\n",
        "# Split the data into train and test sets\n",
        "X_train, X_test, y_train, y_test = train_test_split(X, y, test_size=0.2, random_state=42)\n",
        "\n",
        "# Standardize numerical features\n",
        "numeric_features = ['MonthlyCharges', 'tenure', 'TotalCharges']\n",
        "scaler = StandardScaler()\n",
        "\n",
        "X_train_numeric = scaler.fit_transform(X_train[numeric_features])\n",
        "X_test_numeric = scaler.transform(X_test[numeric_features])\n",
        "\n",
        "X_train_categorical = X_train[['Contract', 'PaymentMethod']].values\n",
        "X_test_categorical = X_test[['Contract', 'PaymentMethod']].values\n",
        "\n",
        "# Concatenate the preprocessed features\n",
        "X_train_processed = np.concatenate([X_train_numeric, X_train_categorical], axis=1)\n",
        "X_test_processed = np.concatenate([X_test_numeric, X_test_categorical], axis=1)\n",
        "\n",
        "# Build the MLP model using Functional API\n",
        "input_layer = Input(shape=(X_train_processed.shape[1],))\n",
        "dense_1 = Dense(64, activation='relu')(input_layer)\n",
        "dropout_1 = Dropout(0.5)(dense_1)\n",
        "dense_2 = Dense(32, activation='relu')(dropout_1)\n",
        "output_layer = Dense(1, activation='sigmoid')(dense_2)\n",
        "\n",
        "model = Model(inputs=input_layer, outputs=output_layer)\n",
        "\n",
        "# Compile the model\n",
        "model.compile(optimizer=Adam(learning_rate=0.001), loss='binary_crossentropy', metrics=['accuracy'])\n",
        "\n",
        "# Train the model\n",
        "model.fit(X_train_processed, y_train, epochs=10, batch_size=32, validation_data=(X_test,y_test))\n",
        "#split=0.2, verbose=2\n",
        "# Evaluate the model on the test set\n",
        "y_pred = (model.predict(X_test_processed) > 0.5).astype(int)\n",
        "accuracy = accuracy_score(y_test, y_pred)\n",
        "\n",
        "print(f'Test Accuracy: {accuracy * 100:.2f}%')"
      ],
      "metadata": {
        "colab": {
          "base_uri": "https://localhost:8080/"
        },
        "id": "kYB7jaWOM_y9",
        "outputId": "d2170c6f-3abb-4cb2-db9d-33fd2adcfd9c"
      },
      "execution_count": 26,
      "outputs": [
        {
          "output_type": "stream",
          "name": "stderr",
          "text": [
            "<ipython-input-26-173cdb931fae>:8: SettingWithCopyWarning: \n",
            "A value is trying to be set on a copy of a slice from a DataFrame.\n",
            "Try using .loc[row_indexer,col_indexer] = value instead\n",
            "\n",
            "See the caveats in the documentation: https://pandas.pydata.org/pandas-docs/stable/user_guide/indexing.html#returning-a-view-versus-a-copy\n",
            "  X['Contract'] = label_encoder.fit_transform(X['Contract'])\n",
            "<ipython-input-26-173cdb931fae>:9: SettingWithCopyWarning: \n",
            "A value is trying to be set on a copy of a slice from a DataFrame.\n",
            "Try using .loc[row_indexer,col_indexer] = value instead\n",
            "\n",
            "See the caveats in the documentation: https://pandas.pydata.org/pandas-docs/stable/user_guide/indexing.html#returning-a-view-versus-a-copy\n",
            "  X['PaymentMethod'] = label_encoder.fit_transform(X['PaymentMethod'])\n"
          ]
        },
        {
          "output_type": "stream",
          "name": "stdout",
          "text": [
            "Epoch 1/10\n",
            "177/177 [==============================] - 2s 5ms/step - loss: 0.5255 - accuracy: 0.7174 - val_loss: 157.8837 - val_accuracy: 0.7353\n",
            "Epoch 2/10\n",
            "177/177 [==============================] - 1s 4ms/step - loss: 0.4594 - accuracy: 0.7675 - val_loss: 107.8286 - val_accuracy: 0.7360\n",
            "Epoch 3/10\n",
            "177/177 [==============================] - 1s 4ms/step - loss: 0.4539 - accuracy: 0.7732 - val_loss: 135.3514 - val_accuracy: 0.7381\n",
            "Epoch 4/10\n",
            "177/177 [==============================] - 1s 3ms/step - loss: 0.4507 - accuracy: 0.7742 - val_loss: 115.3839 - val_accuracy: 0.7381\n",
            "Epoch 5/10\n",
            "177/177 [==============================] - 1s 3ms/step - loss: 0.4506 - accuracy: 0.7758 - val_loss: 129.5651 - val_accuracy: 0.7381\n",
            "Epoch 6/10\n",
            "177/177 [==============================] - 1s 3ms/step - loss: 0.4482 - accuracy: 0.7748 - val_loss: 234.7080 - val_accuracy: 0.7374\n",
            "Epoch 7/10\n",
            "177/177 [==============================] - 1s 3ms/step - loss: 0.4472 - accuracy: 0.7758 - val_loss: 156.1881 - val_accuracy: 0.7374\n",
            "Epoch 8/10\n",
            "177/177 [==============================] - 1s 3ms/step - loss: 0.4469 - accuracy: 0.7781 - val_loss: 169.2276 - val_accuracy: 0.7381\n",
            "Epoch 9/10\n",
            "177/177 [==============================] - 1s 3ms/step - loss: 0.4460 - accuracy: 0.7808 - val_loss: 206.1947 - val_accuracy: 0.7367\n",
            "Epoch 10/10\n",
            "177/177 [==============================] - 1s 4ms/step - loss: 0.4456 - accuracy: 0.7819 - val_loss: 148.0122 - val_accuracy: 0.7381\n",
            "45/45 [==============================] - 0s 1ms/step\n",
            "Test Accuracy: 79.56%\n"
          ]
        }
      ]
    },
    {
      "cell_type": "code",
      "source": [
        "import numpy as np\n",
        "from sklearn.model_selection import GridSearchCV\n",
        "from tensorflow.keras.models import Model\n",
        "from tensorflow.keras.layers import Input, Dense, Dropout\n",
        "from tensorflow.keras.optimizers import Adam\n",
        "from sklearn.metrics import accuracy_score\n",
        "from sklearn.model_selection import train_test_split\n",
        "from sklearn.preprocessing import StandardScaler, LabelEncoder\n",
        "from sklearn.neural_network import MLPClassifier\n",
        "\n",
        "\n",
        "# Function to create Keras model\n",
        "def create_model(optimizer='adam', dropout_rate=0.5):\n",
        "    input_layer = Input(shape=(X_train_processed.shape[1],))\n",
        "    dense_1 = Dense(64, activation='relu')(input_layer)\n",
        "    dropout_1 = Dropout(dropout_rate)(dense_1)\n",
        "    dense_2 = Dense(32, activation='relu')(dropout_1)\n",
        "    output_layer = Dense(1, activation='sigmoid')(dense_2)\n",
        "\n",
        "    model = Model(inputs=input_layer, outputs=output_layer)\n",
        "    model.compile(optimizer=optimizer, loss='binary_crossentropy', metrics=['accuracy'])\n",
        "\n",
        "    return model\n",
        "\n",
        "\n",
        "# Define the parameter grid to search over\n",
        "param_grid = {\n",
        "    'hidden_layer_sizes': [(32,), (64,), (32, 32), (64, 32)],\n",
        "    'activation': ['relu', 'tanh', 'logistic'],\n",
        "    'alpha': [0.0001, 0.001, 0.01],\n",
        "    'learning_rate': ['constant', 'invscaling', 'adaptive'],\n",
        "}\n",
        "\n",
        "# Create the MLPClassifier\n",
        "mlp = MLPClassifier(max_iter=100)\n",
        "\n",
        "# Create the GridSearchCV object\n",
        "grid_search = GridSearchCV(mlp, param_grid, cv=3, scoring='accuracy', n_jobs=-1)\n",
        "\n",
        "# Fit the grid search to the data\n",
        "grid_search.fit(X_train_processed, y_train)\n",
        "\n",
        "# Get the best parameters and best model\n",
        "best_parameters = grid_search.best_params_\n",
        "best_model = grid_search.best_estimator_\n",
        "\n",
        "# Evaluate the best model on the test set\n",
        "test_accuracy = best_model.score(X_test_processed, y_test)\n",
        "\n",
        "print(\"Best Parameters:\", best_parameters)\n",
        "print(\"Test Accuracy:\", test_accuracy)"
      ],
      "metadata": {
        "colab": {
          "base_uri": "https://localhost:8080/"
        },
        "id": "9ryk5H-lXgDH",
        "outputId": "a2bca0ba-3139-4ae9-f0fe-ef87381d5716"
      },
      "execution_count": 27,
      "outputs": [
        {
          "output_type": "stream",
          "name": "stdout",
          "text": [
            "Best Parameters: {'activation': 'relu', 'alpha': 0.01, 'hidden_layer_sizes': (64, 32), 'learning_rate': 'adaptive'}\n",
            "Test Accuracy: 0.7970191625266146\n"
          ]
        },
        {
          "output_type": "stream",
          "name": "stderr",
          "text": [
            "/usr/local/lib/python3.10/dist-packages/sklearn/neural_network/_multilayer_perceptron.py:686: ConvergenceWarning: Stochastic Optimizer: Maximum iterations (100) reached and the optimization hasn't converged yet.\n",
            "  warnings.warn(\n"
          ]
        }
      ]
    },
    {
      "cell_type": "code",
      "source": [
        "#creating the mlp using the beset parameters from the grid search\n",
        "import tensorflow as tf\n",
        "input_layer = Input(shape=(X_train_processed.shape[1],))\n",
        "dense_1 = Dense(64, activation='tanh', kernel_regularizer=tf.keras.regularizers.l2(0.01))(input_layer)\n",
        "dropout_1 = Dropout(0.01)(dense_1)\n",
        "dense_2 = Dense(32, activation='tanh', kernel_regularizer=tf.keras.regularizers.l2(0.01))(dropout_1)\n",
        "output_layer = Dense(1, activation='sigmoid')(dense_2)\n",
        "\n",
        "model = Model(inputs=input_layer, outputs=output_layer)\n",
        "\n",
        "# Compile the model\n",
        "optimizer = Adam(learning_rate=0.001)\n",
        "model.compile(optimizer=optimizer, loss='binary_crossentropy', metrics=['accuracy'])\n",
        "\n",
        "# Train the model\n",
        "model.fit(X_train_processed, y_train, epochs=10, batch_size=32, validation_data=(X_test_processed, y_test), verbose=2)\n",
        "\n",
        "# Evaluate the model on the test set\n",
        "y_pred = (model.predict(X_test_processed) > 0.5).astype(int)\n",
        "accuracy = accuracy_score(y_test, y_pred)\n",
        "\n",
        "print(f'Test Accuracy: {accuracy * 100:.2f}%')"
      ],
      "metadata": {
        "colab": {
          "base_uri": "https://localhost:8080/"
        },
        "id": "Zgxi7yitvUIp",
        "outputId": "c107016d-bf78-4899-fac6-a08856b9b789"
      },
      "execution_count": 28,
      "outputs": [
        {
          "output_type": "stream",
          "name": "stdout",
          "text": [
            "Epoch 1/10\n",
            "177/177 - 1s - loss: 0.8090 - accuracy: 0.7682 - val_loss: 0.6090 - val_accuracy: 0.7956 - 1s/epoch - 7ms/step\n",
            "Epoch 2/10\n",
            "177/177 - 0s - loss: 0.5643 - accuracy: 0.7851 - val_loss: 0.4936 - val_accuracy: 0.7991 - 372ms/epoch - 2ms/step\n",
            "Epoch 3/10\n",
            "177/177 - 0s - loss: 0.4969 - accuracy: 0.7867 - val_loss: 0.4608 - val_accuracy: 0.8027 - 361ms/epoch - 2ms/step\n",
            "Epoch 4/10\n",
            "177/177 - 0s - loss: 0.4760 - accuracy: 0.7881 - val_loss: 0.4464 - val_accuracy: 0.7991 - 446ms/epoch - 3ms/step\n",
            "Epoch 5/10\n",
            "177/177 - 0s - loss: 0.4678 - accuracy: 0.7870 - val_loss: 0.4403 - val_accuracy: 0.7991 - 379ms/epoch - 2ms/step\n",
            "Epoch 6/10\n",
            "177/177 - 0s - loss: 0.4629 - accuracy: 0.7858 - val_loss: 0.4362 - val_accuracy: 0.7970 - 377ms/epoch - 2ms/step\n",
            "Epoch 7/10\n",
            "177/177 - 0s - loss: 0.4604 - accuracy: 0.7849 - val_loss: 0.4350 - val_accuracy: 0.8013 - 383ms/epoch - 2ms/step\n",
            "Epoch 8/10\n",
            "177/177 - 0s - loss: 0.4590 - accuracy: 0.7836 - val_loss: 0.4364 - val_accuracy: 0.7999 - 369ms/epoch - 2ms/step\n",
            "Epoch 9/10\n",
            "177/177 - 0s - loss: 0.4580 - accuracy: 0.7868 - val_loss: 0.4324 - val_accuracy: 0.8006 - 362ms/epoch - 2ms/step\n",
            "Epoch 10/10\n",
            "177/177 - 0s - loss: 0.4573 - accuracy: 0.7861 - val_loss: 0.4310 - val_accuracy: 0.7963 - 374ms/epoch - 2ms/step\n",
            "45/45 [==============================] - 0s 2ms/step\n",
            "Test Accuracy: 79.63%\n"
          ]
        }
      ]
    },
    {
      "cell_type": "code",
      "source": [
        "y_pred_initial = (model.predict(X_test_processed) > 0.5).astype(int)\n",
        "\n",
        "accuracy_initial = accuracy_score(y_test, y_pred_initial)\n",
        "auc_initial = roc_auc_score(y_test, model.predict(X_test_processed))\n",
        "\n",
        "print(f'Initial model - Test Accuracy: {accuracy_initial * 100:.2f}%')\n",
        "print(f'Initial model - AUC Score: {auc_initial:.4f}')"
      ],
      "metadata": {
        "colab": {
          "base_uri": "https://localhost:8080/"
        },
        "id": "_Lu1TLh6OLsP",
        "outputId": "f53a4b8b-004a-4d6d-d631-3802c6d0076f"
      },
      "execution_count": 42,
      "outputs": [
        {
          "output_type": "stream",
          "name": "stdout",
          "text": [
            "45/45 [==============================] - 0s 2ms/step\n",
            "45/45 [==============================] - 0s 2ms/step\n",
            "Initial model - Test Accuracy: 79.63%\n",
            "Initial model - AUC Score: 0.8473\n"
          ]
        }
      ]
    },
    {
      "cell_type": "code",
      "source": [
        "# Save the model to a file\n",
        "model.save(\"Churning_Customers.h5\")"
      ],
      "metadata": {
        "colab": {
          "base_uri": "https://localhost:8080/"
        },
        "id": "BTS5QU2_ci8d",
        "outputId": "f60dbcd7-8f6f-46da-ef80-c86b48b2c01f"
      },
      "execution_count": 43,
      "outputs": [
        {
          "output_type": "stream",
          "name": "stderr",
          "text": [
            "/usr/local/lib/python3.10/dist-packages/keras/src/engine/training.py:3079: UserWarning: You are saving your model as an HDF5 file via `model.save()`. This file format is considered legacy. We recommend using instead the native Keras format, e.g. `model.save('my_model.keras')`.\n",
            "  saving_api.save_model(\n"
          ]
        }
      ]
    }
  ]
}